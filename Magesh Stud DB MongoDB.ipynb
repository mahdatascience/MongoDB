{
 "cells": [
  {
   "cell_type": "markdown",
   "id": "836f4e3a",
   "metadata": {},
   "source": [
    "# Student Database (MongoDB)"
   ]
  },
  {
   "cell_type": "code",
   "execution_count": null,
   "id": "670a2d93",
   "metadata": {},
   "outputs": [],
   "source": [
    "import json\n",
    "from pymongo import MongoClient\n",
    "\n",
    "client = MongoClient(\"mongodb://localhost:27017/\")\n",
    "db = client[\"Students_DB\"]\n",
    "coll = db[\"students_scores\"]\n",
    "\n",
    "with open(\"students.json\") as f:\n",
    "    data = [json.loads(i) for i in f]\n",
    "    \n",
    "coll.insert_many(data)"
   ]
  },
  {
   "cell_type": "code",
   "execution_count": null,
   "id": "4426a44d",
   "metadata": {},
   "outputs": [],
   "source": [
    "for x in coll.find():\n",
    "    print(x)"
   ]
  },
  {
   "cell_type": "markdown",
   "id": "140ee97d",
   "metadata": {},
   "source": [
    "# Student*Maximum scores in all (exam, quiz and homework)"
   ]
  },
  {
   "cell_type": "code",
   "execution_count": null,
   "id": "ee2c1511",
   "metadata": {},
   "outputs": [],
   "source": [
    "maxi=coll.aggregate([\n",
    "    {\"$unwind\": \"$scores\"},\n",
    "    {\"$group\":{\"_id\":\"$_id\",\"Name\":{\"$first\":\"$name\"},\"Type\":{\"$push\":\"$scores.type\"},\n",
    "              \"Scores\":{\"$push\":\"$scores.score\"},\"Maximum Score\":{\"$sum\":\"$scores.score\"}}},\n",
    "    {\"$sort\":{\"Maximum Score\":-1}},{\"$limit\":1}\n",
    "])\n",
    "\n",
    "for i in maxi:\n",
    "    print(\"\\n Student who scored maximum scores is :\",i[\"Name\"],\"\\n\",i)"
   ]
  },
  {
   "cell_type": "markdown",
   "id": "0898736e",
   "metadata": {},
   "source": [
    "# Students* Scored below average in Exam"
   ]
  },
  {
   "cell_type": "code",
   "execution_count": null,
   "id": "d2c106b7",
   "metadata": {},
   "outputs": [],
   "source": [
    "avge=coll.aggregate([\n",
    "    {\"$unwind\":\"$scores\"},\n",
    "    {\"$match\":{\"scores.type\":\"exam\"}},\n",
    "    {\"$group\":{\"_id\":\"$scores.type\",\"Avg\":{\"$avg\":\"$scores.score\"}}}\n",
    "])\n",
    "\n",
    "for i in avge:\n",
    "    print(i)\n",
    "    \n",
    "stud=coll.aggregate([\n",
    "    {\"$unwind\":\"$scores\"},\n",
    "    {\"$match\":{\"scores.type\":\"exam\",\"scores.score\":{\"$gt\":40,\"$lt\":i[\"Avg\"]}}}\n",
    "])\n",
    "\n",
    "for k in stud:\n",
    "    print(k)"
   ]
  },
  {
   "cell_type": "markdown",
   "id": "3678c5b1",
   "metadata": {},
   "source": [
    "# Students* Pass and Fail"
   ]
  },
  {
   "cell_type": "code",
   "execution_count": null,
   "id": "cb27b9fd",
   "metadata": {},
   "outputs": [],
   "source": [
    "print(\"\\n *Student who scored Below pass mark*\")\n",
    "fail=coll.aggregate([\n",
    "    {\"$unwind\":\"$scores\"},\n",
    "    {\"$match\":{\"scores.score\":{\"$lt\":40}}},\n",
    "    {\"$group\":{\"_id\":\"$_id\",\"Name\":{\"$first\":\"$name\"},\"Types\":{\"$sum\":1},\"Remarks\":{\"$first\":\"Fail\"}}},\n",
    "    {\"$sort\":{\"_id\":1}}\n",
    "])\n",
    "for i in fail:\n",
    "    print(i)\n",
    "\n",
    "    \n",
    "print(\"\\n *Student who scored Above pass mark*\")\n",
    "pas=coll.aggregate([\n",
    "    {\"$unwind\":\"$scores\"},\n",
    "    {\"$match\":{\"scores.score\":{\"$gte\":40}}},\n",
    "    {\"$group\":{\"_id\":\"$_id\",\"Name\":{\"$first\":\"$name\"},\"Types\":{\"$sum\":1},\"Remarks\":{\"$first\":\"Pass\"}}},\n",
    "    {\"$sort\":{\"_id\":1}}\n",
    "])\n",
    "for i in pas:\n",
    "    if i['Types']==3:\n",
    "        print(i)"
   ]
  },
  {
   "cell_type": "markdown",
   "id": "d6d49908",
   "metadata": {},
   "source": [
    "# Students* Total, Avg and Separate collection"
   ]
  },
  {
   "cell_type": "code",
   "execution_count": null,
   "id": "f5ba4a64",
   "metadata": {},
   "outputs": [],
   "source": [
    "avgtotal = db.avgtotal_coll\n",
    "\n",
    "at = coll.aggregate([\n",
    "    {\"$unwind\":\"$scores\"},\n",
    "    {\"$group\":{\"_id\":\"$_id\", \"Name\":{\"$first\":\"$name\"},\"Total\":{\"$sum\":\"$scores.score\"},\"Average\":{\"$avg\":\"$scores.score\"}}},\n",
    "    {\"$sort\":{\"_id\":1}}\n",
    "])\n",
    "\n",
    "j=[]\n",
    "for i in at:\n",
    "    j.append(i)\n",
    "    print(i)\n",
    "avgtotal.insert_many(j)"
   ]
  },
  {
   "cell_type": "markdown",
   "id": "1e67f919",
   "metadata": {},
   "source": [
    "# Students* Scored below average and ^40% in all the categories"
   ]
  },
  {
   "cell_type": "code",
   "execution_count": null,
   "id": "cf17ef14",
   "metadata": {},
   "outputs": [],
   "source": [
    "#*Avg': 48.7*#\n",
    "avgpass = db.avgpass_coll\n",
    "\n",
    "avp = coll.aggregate([\n",
    "    {\"$match\":{\"$expr\":{\"$and\":[{\"$gt\":[{\"$min\":\"$scores.score\"},40]},{\"$lt\":[{\"$max\":\"$scores.score\"},48.7]}]}}}\n",
    "])\n",
    "\n",
    "l=[]\n",
    "for i in avp:\n",
    "    l.append(i)\n",
    "    print(i)\n",
    "#avgpass.insert_many(l)\n",
    "print(\"\\n No students who scored below average and above 40% in all the categories***\")"
   ]
  },
  {
   "cell_type": "markdown",
   "id": "aece04e8",
   "metadata": {},
   "source": [
    "# Students* Scored fail mark in all the categories¶"
   ]
  },
  {
   "cell_type": "code",
   "execution_count": null,
   "id": "3dd296d0",
   "metadata": {},
   "outputs": [],
   "source": [
    "failstud = db.failstud.coll\n",
    "\n",
    "faist = coll.aggregate([\n",
    "    {\"$match\":{\"$expr\":{\"$lt\":[{\"$max\":\"$scores.score\"},40]}}}\n",
    "])\n",
    "\n",
    "f =[]\n",
    "for i in faist:\n",
    "    f.append(i)\n",
    "    print(i)\n",
    "failstud.insert_many(f)"
   ]
  },
  {
   "cell_type": "markdown",
   "id": "fafb5234",
   "metadata": {},
   "source": [
    "# Students* Scored pass mark in all the categories"
   ]
  },
  {
   "cell_type": "code",
   "execution_count": null,
   "id": "a5671e9b",
   "metadata": {},
   "outputs": [],
   "source": [
    "passtud = db.passtud.coll\n",
    "\n",
    "pastu = coll.aggregate([\n",
    "    {\"$match\":{\"$expr\":{\"$gt\":[{\"$min\":\"$scores.score\"},40]}}}\n",
    "])\n",
    "\n",
    "ps = []\n",
    "for i in pastu:\n",
    "    ps.append(i)\n",
    "    print(i)\n",
    "passtud.insert_many(ps)"
   ]
  }
 ],
 "metadata": {
  "kernelspec": {
   "display_name": "Python 3 (ipykernel)",
   "language": "python",
   "name": "python3"
  },
  "language_info": {
   "codemirror_mode": {
    "name": "ipython",
    "version": 3
   },
   "file_extension": ".py",
   "mimetype": "text/x-python",
   "name": "python",
   "nbconvert_exporter": "python",
   "pygments_lexer": "ipython3",
   "version": "3.9.13"
  }
 },
 "nbformat": 4,
 "nbformat_minor": 5
}

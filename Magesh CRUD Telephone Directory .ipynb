{
 "cells": [
  {
   "cell_type": "markdown",
   "id": "042b569c",
   "metadata": {},
   "source": [
    "# Telephone Directory CRUD Operation"
   ]
  },
  {
   "cell_type": "code",
   "execution_count": 6,
   "id": "9462b908",
   "metadata": {},
   "outputs": [],
   "source": [
    "from pymongo import MongoClient\n",
    "\n",
    "client = MongoClient(\"mongodb://localhost:27017/\")\n",
    "db = client['Telephone']\n",
    "DT = db['Directory']"
   ]
  },
  {
   "cell_type": "markdown",
   "id": "06515b8f",
   "metadata": {},
   "source": [
    "# Create*"
   ]
  },
  {
   "cell_type": "code",
   "execution_count": 7,
   "id": "93d144c2",
   "metadata": {},
   "outputs": [
    {
     "data": {
      "text/plain": [
       "<pymongo.results.InsertOneResult at 0x22fd1133e20>"
      ]
     },
     "execution_count": 7,
     "metadata": {},
     "output_type": "execute_result"
    }
   ],
   "source": [
    "fields = {\"_id\": 1, \"Name\":\"Magesh\",\"Tel No\":11111111,\"Place\":\"Chennai\"}\n",
    "DT.insert_one(fields)"
   ]
  },
  {
   "cell_type": "code",
   "execution_count": 8,
   "id": "b2ec3742",
   "metadata": {},
   "outputs": [],
   "source": [
    "fields = [{\"_id\": 2,\"Name\":\"Tharun\",\"Tel No\":22222222,\"Place\":\"Chennai\"},\n",
    "          {\"_id\": 3,\"Name\": \"Giri\", \"Tel No\": 33333333,\"Place\": \"Chennai\"},\n",
    "          {\"_id\": 4,\"Name\": \"Tharun\", \"Tel No\": 44444444,\"Place\": \"Arni\"},\n",
    "          {\"_id\": 5,\"Name\": \"Vasuki\", \"Tel No\": 55555555,\"Place\": \"Gingee\"},\n",
    "          {\"_id\": 6,\"Name\": \"Nancy\",\"Tel No\":66666666, \"Place\":\"Nagapattinam\"},\n",
    "          {\"_id\": 7,\"Name\":\"Rajakumari\",\"Tel No\":77777777,\"Place\":\"Chennai\"},\n",
    "          {\"_id\": 8,\"Name\":\"Aradhana\",\"Tel No\":88888888,\"Place\":\"Arni\"}]\n",
    "DT.insert_many(fields)"
   ]
  },
  {
   "cell_type": "markdown",
   "id": "3b4db4ac",
   "metadata": {},
   "source": [
    "# Retrieve*"
   ]
  },
  {
   "cell_type": "code",
   "execution_count": 9,
   "id": "69c78e7b",
   "metadata": {},
   "outputs": [
    {
     "name": "stdout",
     "output_type": "stream",
     "text": [
      "{'_id': 1, 'Name': 'Magesh', 'Tel No': 11111111, 'Place': 'Chennai'}\n"
     ]
    }
   ],
   "source": [
    "x = DT.find_one()\n",
    "print(x)"
   ]
  },
  {
   "cell_type": "code",
   "execution_count": 10,
   "id": "f4f36d00",
   "metadata": {},
   "outputs": [
    {
     "name": "stdout",
     "output_type": "stream",
     "text": [
      "{'_id': 1, 'Name': 'Magesh', 'Tel No': 11111111, 'Place': 'Chennai'}\n",
      "{'_id': 2, 'Name': 'Tharun', 'Tel No': 22222222, 'Place': 'Chennai'}\n",
      "{'_id': 3, 'Name': 'Giri', 'Tel No': 33333333, 'Place': 'Chennai'}\n",
      "{'_id': 4, 'Name': 'Tharun', 'Tel No': 44444444, 'Place': 'Arni'}\n",
      "{'_id': 5, 'Name': 'Vasuki', 'Tel No': 55555555, 'Place': 'Gingee'}\n",
      "{'_id': 6, 'Name': 'Nancy', 'Tel No': 66666666, 'Place': 'Nagapattinam'}\n",
      "{'_id': 7, 'Name': 'Rajakumari', 'Tel No': 77777777, 'Place': 'Chennai'}\n",
      "{'_id': 8, 'Name': 'Aradhana', 'Tel No': 88888888, 'Place': 'Arni'}\n"
     ]
    }
   ],
   "source": [
    "for x in DT.find():\n",
    "    print(x)"
   ]
  },
  {
   "cell_type": "code",
   "execution_count": 11,
   "id": "c1026d9e",
   "metadata": {},
   "outputs": [
    {
     "name": "stdout",
     "output_type": "stream",
     "text": [
      "{'_id': 3, 'Name': 'Giri', 'Tel No': 33333333, 'Place': 'Chennai'}\n"
     ]
    }
   ],
   "source": [
    "query = {\"Name\":\"Giri\"}\n",
    "print(DT.find_one(query))"
   ]
  },
  {
   "cell_type": "markdown",
   "id": "d943aea7",
   "metadata": {},
   "source": [
    "# Update*"
   ]
  },
  {
   "cell_type": "code",
   "execution_count": 13,
   "id": "8496f1ad",
   "metadata": {},
   "outputs": [
    {
     "data": {
      "text/plain": [
       "<pymongo.results.UpdateResult at 0x22fd2f4ed00>"
      ]
     },
     "execution_count": 13,
     "metadata": {},
     "output_type": "execute_result"
    }
   ],
   "source": [
    "query = {\"Tel No\":11111111}\n",
    "newvalues = {\"$set\":{\"Tel No\":12121212}}\n",
    "DT.update_one(query, newvalues)"
   ]
  },
  {
   "cell_type": "code",
   "execution_count": 15,
   "id": "2bfc1cb1",
   "metadata": {},
   "outputs": [
    {
     "data": {
      "text/plain": [
       "<pymongo.results.UpdateResult at 0x22fd2f4e0d0>"
      ]
     },
     "execution_count": 15,
     "metadata": {},
     "output_type": "execute_result"
    }
   ],
   "source": [
    "query = {\"Place\":\"Chennai\"}\n",
    "newvalues = {\"$set\":{\"Place\":\"Arni\"}}\n",
    "DT.update_many(query, newvalues)"
   ]
  },
  {
   "cell_type": "code",
   "execution_count": 16,
   "id": "ef49aa3c",
   "metadata": {},
   "outputs": [
    {
     "name": "stdout",
     "output_type": "stream",
     "text": [
      "{'_id': 1, 'Name': 'Magesh', 'Tel No': 12121212, 'Place': 'Arni'}\n",
      "{'_id': 2, 'Name': 'Tharun', 'Tel No': 22222222, 'Place': 'Arni'}\n",
      "{'_id': 3, 'Name': 'Giri', 'Tel No': 33333333, 'Place': 'Arni'}\n",
      "{'_id': 4, 'Name': 'Tharun', 'Tel No': 44444444, 'Place': 'Arni'}\n",
      "{'_id': 5, 'Name': 'Vasuki', 'Tel No': 55555555, 'Place': 'Gingee'}\n",
      "{'_id': 6, 'Name': 'Nancy', 'Tel No': 66666666, 'Place': 'Nagapattinam'}\n",
      "{'_id': 7, 'Name': 'Rajakumari', 'Tel No': 77777777, 'Place': 'Arni'}\n",
      "{'_id': 8, 'Name': 'Aradhana', 'Tel No': 88888888, 'Place': 'Arni'}\n"
     ]
    }
   ],
   "source": [
    "for x in DT.find():\n",
    "    print(x)"
   ]
  },
  {
   "cell_type": "markdown",
   "id": "bca61a51",
   "metadata": {},
   "source": [
    "# Delete*"
   ]
  },
  {
   "cell_type": "code",
   "execution_count": 18,
   "id": "2051a691",
   "metadata": {},
   "outputs": [
    {
     "data": {
      "text/plain": [
       "<pymongo.results.DeleteResult at 0x22fd0d7a4f0>"
      ]
     },
     "execution_count": 18,
     "metadata": {},
     "output_type": "execute_result"
    }
   ],
   "source": [
    "query = {\"Name\":\"Nancy\"}\n",
    "DT.delete_one(query)"
   ]
  },
  {
   "cell_type": "code",
   "execution_count": 19,
   "id": "45a53f30",
   "metadata": {},
   "outputs": [
    {
     "name": "stdout",
     "output_type": "stream",
     "text": [
      "{'_id': 1, 'Name': 'Magesh', 'Tel No': 12121212, 'Place': 'Arni'}\n",
      "{'_id': 2, 'Name': 'Tharun', 'Tel No': 22222222, 'Place': 'Arni'}\n",
      "{'_id': 3, 'Name': 'Giri', 'Tel No': 33333333, 'Place': 'Arni'}\n",
      "{'_id': 4, 'Name': 'Tharun', 'Tel No': 44444444, 'Place': 'Arni'}\n",
      "{'_id': 5, 'Name': 'Vasuki', 'Tel No': 55555555, 'Place': 'Gingee'}\n",
      "{'_id': 7, 'Name': 'Rajakumari', 'Tel No': 77777777, 'Place': 'Arni'}\n",
      "{'_id': 8, 'Name': 'Aradhana', 'Tel No': 88888888, 'Place': 'Arni'}\n"
     ]
    }
   ],
   "source": [
    "for x in DT.find():\n",
    "    print(x)"
   ]
  }
 ],
 "metadata": {
  "kernelspec": {
   "display_name": "Python 3 (ipykernel)",
   "language": "python",
   "name": "python3"
  },
  "language_info": {
   "codemirror_mode": {
    "name": "ipython",
    "version": 3
   },
   "file_extension": ".py",
   "mimetype": "text/x-python",
   "name": "python",
   "nbconvert_exporter": "python",
   "pygments_lexer": "ipython3",
   "version": "3.9.13"
  }
 },
 "nbformat": 4,
 "nbformat_minor": 5
}
